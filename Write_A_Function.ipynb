{
  "nbformat": 4,
  "nbformat_minor": 0,
  "metadata": {
    "colab": {
      "provenance": [],
      "authorship_tag": "ABX9TyMsJ15GXhlAKvAFKFXcJ+2m"
    },
    "kernelspec": {
      "name": "python3",
      "display_name": "Python 3"
    },
    "language_info": {
      "name": "python"
    }
  },
  "cells": [
    {
      "cell_type": "code",
      "execution_count": 1,
      "metadata": {
        "id": "0Ivz8_6SxIOc"
      },
      "outputs": [],
      "source": [
        "def is_leap(year):\n",
        "  leap = False\n",
        "          \n",
        "  # Write your logic here\n",
        "  if (year % 400 == 0) or (year % 100 != 0) and (year % 4 == 0):\n",
        "    return True\n",
        "\n",
        "  return leap"
      ]
    }
  ]
}