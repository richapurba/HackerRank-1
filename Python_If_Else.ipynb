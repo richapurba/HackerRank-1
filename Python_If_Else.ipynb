{
  "nbformat": 4,
  "nbformat_minor": 0,
  "metadata": {
    "colab": {
      "provenance": [],
      "authorship_tag": "ABX9TyPSlrqmQ8iII8uNSUhxm1io"
    },
    "kernelspec": {
      "name": "python3",
      "display_name": "Python 3"
    },
    "language_info": {
      "name": "python"
    }
  },
  "cells": [
    {
      "cell_type": "code",
      "execution_count": 3,
      "metadata": {
        "colab": {
          "base_uri": "https://localhost:8080/"
        },
        "id": "HbvxqJ6htu8W",
        "outputId": "047518ad-16c0-4cb9-8f0c-62e2af93b12c"
      },
      "outputs": [
        {
          "output_type": "stream",
          "name": "stdout",
          "text": [
            "6\n",
            "Weird\n"
          ]
        }
      ],
      "source": [
        "#!/bin/python3\n",
        "\n",
        "import math\n",
        "import os\n",
        "import random\n",
        "import re\n",
        "import sys\n",
        "\n",
        "\n",
        "\n",
        "if __name__ == '__main__':\n",
        "   n = int(input().strip())\n",
        "   if ((n % 2 == 0) and (n in range(2,5))) or ((n % 2 == 0) and (n > 20)):\n",
        "      print(\"Not Weird\")\n",
        "   else:\n",
        "      print(\"Weird\")\n"
      ]
    }
  ]
}